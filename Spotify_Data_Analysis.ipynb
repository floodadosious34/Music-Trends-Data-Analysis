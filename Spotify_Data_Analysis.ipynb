{
 "cells": [
  {
   "cell_type": "code",
   "execution_count": 1,
   "metadata": {},
   "outputs": [],
   "source": [
    "import numpy as np\n",
    "import pandas as pd\n",
    "import matplotlib.pyplot as plt\n",
    "import seaborn as sns\n",
    "import zipfile\n",
    "import sqlite3\n",
    "import SQL_queris as w\n",
    "\n",
    "import plotly.express as px\n",
    "import plotly.graph_objects as go\n",
    "from plotly.offline import init_notebook_mode, iplot ## For offline mode.\n",
    "from plotly.subplots import make_subplots\n",
    "import matplotlib.pyplot as plt ##Again, visualizatoin.\n",
    "\n",
    "colors = [\"#8c0404\",\"#f25ed0\",\"#000000\",\"#16A085\",\"#34495E\",\n",
    "           \"#21618C \",\"#512E5F\",\"#45B39D\",\"#AAB7B8 \",\"#20B2AA\",\n",
    "           \"#FF69B4\",\"#00CED1\",\"#FF7F50\",\"#7FFF00\",\"#DA70D6\"]\n"
   ]
  },
  {
   "cell_type": "markdown",
   "metadata": {},
   "source": [
    "# Spotify Data Analysis - Grammy Winners in the past - 2023\n",
    "--------\n",
    "### Process:\n",
    "- Use a SQL query to build the first dataFrame\n",
    "- Clean and organize the data\n",
    "- Perform analysis and visualization\n",
    "\n",
    "\n",
    "### [Click here to view the SQL queries used in this notebook](SQL_queris.py)"
   ]
  },
  {
   "cell_type": "code",
   "execution_count": 2,
   "metadata": {},
   "outputs": [],
   "source": [
    "# Connect to DB\n",
    "conn = sqlite3.connect('Spotify_data.db')"
   ]
  },
  {
   "cell_type": "code",
   "execution_count": 3,
   "metadata": {},
   "outputs": [
    {
     "data": {
      "text/html": [
       "<div>\n",
       "<style scoped>\n",
       "    .dataframe tbody tr th:only-of-type {\n",
       "        vertical-align: middle;\n",
       "    }\n",
       "\n",
       "    .dataframe tbody tr th {\n",
       "        vertical-align: top;\n",
       "    }\n",
       "\n",
       "    .dataframe thead th {\n",
       "        text-align: right;\n",
       "    }\n",
       "</style>\n",
       "<table border=\"1\" class=\"dataframe\">\n",
       "  <thead>\n",
       "    <tr style=\"text-align: right;\">\n",
       "      <th></th>\n",
       "      <th>index</th>\n",
       "      <th>Unnamed: 0</th>\n",
       "      <th>track_name</th>\n",
       "      <th>artist(s)_name</th>\n",
       "      <th>artist_count</th>\n",
       "      <th>released_year</th>\n",
       "      <th>released_month</th>\n",
       "      <th>released_day</th>\n",
       "      <th>in_spotify_playlists</th>\n",
       "      <th>in_spotify_charts</th>\n",
       "      <th>...</th>\n",
       "      <th>published_at</th>\n",
       "      <th>updated_at</th>\n",
       "      <th>category</th>\n",
       "      <th>nominee</th>\n",
       "      <th>artist</th>\n",
       "      <th>workers</th>\n",
       "      <th>img</th>\n",
       "      <th>winner</th>\n",
       "      <th>genres</th>\n",
       "      <th>popularity</th>\n",
       "    </tr>\n",
       "  </thead>\n",
       "  <tbody>\n",
       "    <tr>\n",
       "      <th>0</th>\n",
       "      <td>388</td>\n",
       "      <td>388</td>\n",
       "      <td>STAR WALKIN' (League of Legends Worlds Anthem)</td>\n",
       "      <td>Lil Nas X</td>\n",
       "      <td>1</td>\n",
       "      <td>2022</td>\n",
       "      <td>9</td>\n",
       "      <td>22</td>\n",
       "      <td>2616</td>\n",
       "      <td>0</td>\n",
       "      <td>...</td>\n",
       "      <td>2020-05-19T05:10:28-07:00</td>\n",
       "      <td>2020-05-19T05:10:28-07:00</td>\n",
       "      <td>Album Of The Year</td>\n",
       "      <td>7</td>\n",
       "      <td>Lil Nas X</td>\n",
       "      <td>Joe Grasso, engineer/mixer; Montero Lamar Hill...</td>\n",
       "      <td>https://www.grammy.com/sites/com/files/styles/...</td>\n",
       "      <td>1</td>\n",
       "      <td>['country rap', 'lgbtq+ hip hop', 'pop rap', '...</td>\n",
       "      <td>89</td>\n",
       "    </tr>\n",
       "    <tr>\n",
       "      <th>1</th>\n",
       "      <td>388</td>\n",
       "      <td>388</td>\n",
       "      <td>STAR WALKIN' (League of Legends Worlds Anthem)</td>\n",
       "      <td>Lil Nas X</td>\n",
       "      <td>1</td>\n",
       "      <td>2022</td>\n",
       "      <td>9</td>\n",
       "      <td>22</td>\n",
       "      <td>2616</td>\n",
       "      <td>0</td>\n",
       "      <td>...</td>\n",
       "      <td>2020-05-19T05:10:28-07:00</td>\n",
       "      <td>2020-05-19T05:10:28-07:00</td>\n",
       "      <td>Best Rap/Sung Performance</td>\n",
       "      <td>Panini</td>\n",
       "      <td>Lil Nas X</td>\n",
       "      <td>None</td>\n",
       "      <td>https://www.grammy.com/sites/com/files/styles/...</td>\n",
       "      <td>1</td>\n",
       "      <td>['country rap', 'lgbtq+ hip hop', 'pop rap', '...</td>\n",
       "      <td>89</td>\n",
       "    </tr>\n",
       "    <tr>\n",
       "      <th>2</th>\n",
       "      <td>519</td>\n",
       "      <td>519</td>\n",
       "      <td>MONTERO (Call Me By Your Name)</td>\n",
       "      <td>Lil Nas X</td>\n",
       "      <td>1</td>\n",
       "      <td>2020</td>\n",
       "      <td>9</td>\n",
       "      <td>18</td>\n",
       "      <td>12329</td>\n",
       "      <td>0</td>\n",
       "      <td>...</td>\n",
       "      <td>2020-05-19T05:10:28-07:00</td>\n",
       "      <td>2020-05-19T05:10:28-07:00</td>\n",
       "      <td>Album Of The Year</td>\n",
       "      <td>7</td>\n",
       "      <td>Lil Nas X</td>\n",
       "      <td>Joe Grasso, engineer/mixer; Montero Lamar Hill...</td>\n",
       "      <td>https://www.grammy.com/sites/com/files/styles/...</td>\n",
       "      <td>1</td>\n",
       "      <td>['country rap', 'lgbtq+ hip hop', 'pop rap', '...</td>\n",
       "      <td>89</td>\n",
       "    </tr>\n",
       "    <tr>\n",
       "      <th>3</th>\n",
       "      <td>519</td>\n",
       "      <td>519</td>\n",
       "      <td>MONTERO (Call Me By Your Name)</td>\n",
       "      <td>Lil Nas X</td>\n",
       "      <td>1</td>\n",
       "      <td>2020</td>\n",
       "      <td>9</td>\n",
       "      <td>18</td>\n",
       "      <td>12329</td>\n",
       "      <td>0</td>\n",
       "      <td>...</td>\n",
       "      <td>2020-05-19T05:10:28-07:00</td>\n",
       "      <td>2020-05-19T05:10:28-07:00</td>\n",
       "      <td>Best Rap/Sung Performance</td>\n",
       "      <td>Panini</td>\n",
       "      <td>Lil Nas X</td>\n",
       "      <td>None</td>\n",
       "      <td>https://www.grammy.com/sites/com/files/styles/...</td>\n",
       "      <td>1</td>\n",
       "      <td>['country rap', 'lgbtq+ hip hop', 'pop rap', '...</td>\n",
       "      <td>89</td>\n",
       "    </tr>\n",
       "    <tr>\n",
       "      <th>4</th>\n",
       "      <td>524</td>\n",
       "      <td>524</td>\n",
       "      <td>THATS WHAT I WANT</td>\n",
       "      <td>Lil Nas X</td>\n",
       "      <td>1</td>\n",
       "      <td>2021</td>\n",
       "      <td>9</td>\n",
       "      <td>17</td>\n",
       "      <td>7963</td>\n",
       "      <td>0</td>\n",
       "      <td>...</td>\n",
       "      <td>2020-05-19T05:10:28-07:00</td>\n",
       "      <td>2020-05-19T05:10:28-07:00</td>\n",
       "      <td>Album Of The Year</td>\n",
       "      <td>7</td>\n",
       "      <td>Lil Nas X</td>\n",
       "      <td>Joe Grasso, engineer/mixer; Montero Lamar Hill...</td>\n",
       "      <td>https://www.grammy.com/sites/com/files/styles/...</td>\n",
       "      <td>1</td>\n",
       "      <td>['country rap', 'lgbtq+ hip hop', 'pop rap', '...</td>\n",
       "      <td>89</td>\n",
       "    </tr>\n",
       "  </tbody>\n",
       "</table>\n",
       "<p>5 rows × 40 columns</p>\n",
       "</div>"
      ],
      "text/plain": [
       "   index  Unnamed: 0                                      track_name  \\\n",
       "0    388         388  STAR WALKIN' (League of Legends Worlds Anthem)   \n",
       "1    388         388  STAR WALKIN' (League of Legends Worlds Anthem)   \n",
       "2    519         519                  MONTERO (Call Me By Your Name)   \n",
       "3    519         519                  MONTERO (Call Me By Your Name)   \n",
       "4    524         524                               THATS WHAT I WANT   \n",
       "\n",
       "  artist(s)_name  artist_count  released_year  released_month  released_day  \\\n",
       "0      Lil Nas X             1           2022               9            22   \n",
       "1      Lil Nas X             1           2022               9            22   \n",
       "2      Lil Nas X             1           2020               9            18   \n",
       "3      Lil Nas X             1           2020               9            18   \n",
       "4      Lil Nas X             1           2021               9            17   \n",
       "\n",
       "   in_spotify_playlists  in_spotify_charts  ...               published_at  \\\n",
       "0                  2616                  0  ...  2020-05-19T05:10:28-07:00   \n",
       "1                  2616                  0  ...  2020-05-19T05:10:28-07:00   \n",
       "2                 12329                  0  ...  2020-05-19T05:10:28-07:00   \n",
       "3                 12329                  0  ...  2020-05-19T05:10:28-07:00   \n",
       "4                  7963                  0  ...  2020-05-19T05:10:28-07:00   \n",
       "\n",
       "                  updated_at                   category nominee     artist  \\\n",
       "0  2020-05-19T05:10:28-07:00          Album Of The Year       7  Lil Nas X   \n",
       "1  2020-05-19T05:10:28-07:00  Best Rap/Sung Performance  Panini  Lil Nas X   \n",
       "2  2020-05-19T05:10:28-07:00          Album Of The Year       7  Lil Nas X   \n",
       "3  2020-05-19T05:10:28-07:00  Best Rap/Sung Performance  Panini  Lil Nas X   \n",
       "4  2020-05-19T05:10:28-07:00          Album Of The Year       7  Lil Nas X   \n",
       "\n",
       "                                             workers  \\\n",
       "0  Joe Grasso, engineer/mixer; Montero Lamar Hill...   \n",
       "1                                               None   \n",
       "2  Joe Grasso, engineer/mixer; Montero Lamar Hill...   \n",
       "3                                               None   \n",
       "4  Joe Grasso, engineer/mixer; Montero Lamar Hill...   \n",
       "\n",
       "                                                 img winner  \\\n",
       "0  https://www.grammy.com/sites/com/files/styles/...      1   \n",
       "1  https://www.grammy.com/sites/com/files/styles/...      1   \n",
       "2  https://www.grammy.com/sites/com/files/styles/...      1   \n",
       "3  https://www.grammy.com/sites/com/files/styles/...      1   \n",
       "4  https://www.grammy.com/sites/com/files/styles/...      1   \n",
       "\n",
       "                                              genres  popularity  \n",
       "0  ['country rap', 'lgbtq+ hip hop', 'pop rap', '...          89  \n",
       "1  ['country rap', 'lgbtq+ hip hop', 'pop rap', '...          89  \n",
       "2  ['country rap', 'lgbtq+ hip hop', 'pop rap', '...          89  \n",
       "3  ['country rap', 'lgbtq+ hip hop', 'pop rap', '...          89  \n",
       "4  ['country rap', 'lgbtq+ hip hop', 'pop rap', '...          89  \n",
       "\n",
       "[5 rows x 40 columns]"
      ]
     },
     "execution_count": 3,
     "metadata": {},
     "output_type": "execute_result"
    }
   ],
   "source": [
    "# Query the db and pull in \n",
    "spotify_DF = pd.read_sql_query(w.spotify_tracks_data_query, conn)\n",
    "\n",
    "spotify_DF.head()"
   ]
  },
  {
   "cell_type": "code",
   "execution_count": 4,
   "metadata": {},
   "outputs": [
    {
     "data": {
      "text/plain": [
       "Index(['index', 'Unnamed: 0', 'track_name', 'artist(s)_name', 'artist_count',\n",
       "       'released_year', 'released_month', 'released_day',\n",
       "       'in_spotify_playlists', 'in_spotify_charts', 'streams',\n",
       "       'in_apple_playlists', 'in_apple_charts', 'in_deezer_playlists',\n",
       "       'in_deezer_charts', 'in_shazam_charts', 'bpm', 'key', 'mode',\n",
       "       'danceability_%', 'valence_%', 'energy_%', 'acousticness_%',\n",
       "       'instrumentalness_%', 'liveness_%', 'speechiness_%', 'index',\n",
       "       'Unnamed: 0', 'year', 'title', 'published_at', 'updated_at', 'category',\n",
       "       'nominee', 'artist', 'workers', 'img', 'winner', 'genres',\n",
       "       'popularity'],\n",
       "      dtype='object')"
      ]
     },
     "execution_count": 4,
     "metadata": {},
     "output_type": "execute_result"
    }
   ],
   "source": [
    "# Check column names in DB query\n",
    "spotify_DF.columns"
   ]
  },
  {
   "cell_type": "code",
   "execution_count": 5,
   "metadata": {},
   "outputs": [],
   "source": [
    "# Clean data by removing dulicate columns and removing unwanted columns\n",
    "spotify_DF = spotify_DF.iloc[:,~spotify_DF.columns.duplicated()]\n",
    "spotify_DF = spotify_DF.drop(\n",
    "                            [\n",
    "                                   'Unnamed: 0', 'index', 'in_spotify_playlists', 'in_spotify_charts', \n",
    "                                   'in_apple_playlists', 'in_apple_charts', 'in_deezer_playlists', 'in_deezer_charts',\n",
    "                                   'in_shazam_charts', 'valence_%','energy_%', 'acousticness_%', 'instrumentalness_%', \n",
    "                                   'liveness_%','speechiness_%', 'published_at', 'updated_at','category'\n",
    "                            ], axis=1)"
   ]
  },
  {
   "cell_type": "code",
   "execution_count": 6,
   "metadata": {},
   "outputs": [
    {
     "data": {
      "text/plain": [
       "Index(['track_name', 'artist(s)_name', 'artist_count', 'released_year',\n",
       "       'released_month', 'released_day', 'streams', 'bpm', 'key', 'mode',\n",
       "       'danceability_%', 'year', 'title', 'nominee', 'artist', 'workers',\n",
       "       'img', 'winner', 'genres', 'popularity'],\n",
       "      dtype='object')"
      ]
     },
     "execution_count": 6,
     "metadata": {},
     "output_type": "execute_result"
    }
   ],
   "source": [
    "# Chek if columns were removed\n",
    "spotify_DF.columns"
   ]
  },
  {
   "cell_type": "code",
   "execution_count": 20,
   "metadata": {},
   "outputs": [
    {
     "data": {
      "text/html": [
       "<div>\n",
       "<style scoped>\n",
       "    .dataframe tbody tr th:only-of-type {\n",
       "        vertical-align: middle;\n",
       "    }\n",
       "\n",
       "    .dataframe tbody tr th {\n",
       "        vertical-align: top;\n",
       "    }\n",
       "\n",
       "    .dataframe thead th {\n",
       "        text-align: right;\n",
       "    }\n",
       "</style>\n",
       "<table border=\"1\" class=\"dataframe\">\n",
       "  <thead>\n",
       "    <tr style=\"text-align: right;\">\n",
       "      <th></th>\n",
       "      <th>track_name</th>\n",
       "      <th>artist(s)_name</th>\n",
       "      <th>artist_count</th>\n",
       "      <th>released_year</th>\n",
       "      <th>released_month</th>\n",
       "      <th>released_day</th>\n",
       "      <th>streams</th>\n",
       "      <th>in_apple_playlists</th>\n",
       "      <th>in_apple_charts</th>\n",
       "      <th>in_deezer_playlists</th>\n",
       "      <th>...</th>\n",
       "      <th>title</th>\n",
       "      <th>published_at</th>\n",
       "      <th>updated_at</th>\n",
       "      <th>category</th>\n",
       "      <th>nominee</th>\n",
       "      <th>workers</th>\n",
       "      <th>img</th>\n",
       "      <th>winner</th>\n",
       "      <th>genres</th>\n",
       "      <th>popularity</th>\n",
       "    </tr>\n",
       "    <tr>\n",
       "      <th>artist</th>\n",
       "      <th></th>\n",
       "      <th></th>\n",
       "      <th></th>\n",
       "      <th></th>\n",
       "      <th></th>\n",
       "      <th></th>\n",
       "      <th></th>\n",
       "      <th></th>\n",
       "      <th></th>\n",
       "      <th></th>\n",
       "      <th></th>\n",
       "      <th></th>\n",
       "      <th></th>\n",
       "      <th></th>\n",
       "      <th></th>\n",
       "      <th></th>\n",
       "      <th></th>\n",
       "      <th></th>\n",
       "      <th></th>\n",
       "      <th></th>\n",
       "      <th></th>\n",
       "    </tr>\n",
       "  </thead>\n",
       "  <tbody>\n",
       "    <tr>\n",
       "      <th>Lil Nas X</th>\n",
       "      <td>STAR WALKIN' (League of Legends Worlds Anthem)</td>\n",
       "      <td>Lil Nas X</td>\n",
       "      <td>1</td>\n",
       "      <td>2022</td>\n",
       "      <td>9</td>\n",
       "      <td>22</td>\n",
       "      <td>332506354</td>\n",
       "      <td>113</td>\n",
       "      <td>17</td>\n",
       "      <td>208</td>\n",
       "      <td>...</td>\n",
       "      <td>62nd Annual GRAMMY Awards  (2019)</td>\n",
       "      <td>2020-05-19T05:10:28-07:00</td>\n",
       "      <td>2020-05-19T05:10:28-07:00</td>\n",
       "      <td>Album Of The Year</td>\n",
       "      <td>7</td>\n",
       "      <td>Joe Grasso, engineer/mixer; Montero Lamar Hill...</td>\n",
       "      <td>https://www.grammy.com/sites/com/files/styles/...</td>\n",
       "      <td>1</td>\n",
       "      <td>['country rap', 'lgbtq+ hip hop', 'pop rap', '...</td>\n",
       "      <td>89</td>\n",
       "    </tr>\n",
       "    <tr>\n",
       "      <th>Lil Nas X</th>\n",
       "      <td>STAR WALKIN' (League of Legends Worlds Anthem)</td>\n",
       "      <td>Lil Nas X</td>\n",
       "      <td>1</td>\n",
       "      <td>2022</td>\n",
       "      <td>9</td>\n",
       "      <td>22</td>\n",
       "      <td>332506354</td>\n",
       "      <td>113</td>\n",
       "      <td>17</td>\n",
       "      <td>208</td>\n",
       "      <td>...</td>\n",
       "      <td>62nd Annual GRAMMY Awards  (2019)</td>\n",
       "      <td>2020-05-19T05:10:28-07:00</td>\n",
       "      <td>2020-05-19T05:10:28-07:00</td>\n",
       "      <td>Best Rap/Sung Performance</td>\n",
       "      <td>Panini</td>\n",
       "      <td>None</td>\n",
       "      <td>https://www.grammy.com/sites/com/files/styles/...</td>\n",
       "      <td>1</td>\n",
       "      <td>['country rap', 'lgbtq+ hip hop', 'pop rap', '...</td>\n",
       "      <td>89</td>\n",
       "    </tr>\n",
       "    <tr>\n",
       "      <th>Lil Nas X</th>\n",
       "      <td>MONTERO (Call Me By Your Name)</td>\n",
       "      <td>Lil Nas X</td>\n",
       "      <td>1</td>\n",
       "      <td>2020</td>\n",
       "      <td>9</td>\n",
       "      <td>18</td>\n",
       "      <td>1735441776</td>\n",
       "      <td>275</td>\n",
       "      <td>19</td>\n",
       "      <td>738</td>\n",
       "      <td>...</td>\n",
       "      <td>62nd Annual GRAMMY Awards  (2019)</td>\n",
       "      <td>2020-05-19T05:10:28-07:00</td>\n",
       "      <td>2020-05-19T05:10:28-07:00</td>\n",
       "      <td>Album Of The Year</td>\n",
       "      <td>7</td>\n",
       "      <td>Joe Grasso, engineer/mixer; Montero Lamar Hill...</td>\n",
       "      <td>https://www.grammy.com/sites/com/files/styles/...</td>\n",
       "      <td>1</td>\n",
       "      <td>['country rap', 'lgbtq+ hip hop', 'pop rap', '...</td>\n",
       "      <td>89</td>\n",
       "    </tr>\n",
       "    <tr>\n",
       "      <th>Lil Nas X</th>\n",
       "      <td>MONTERO (Call Me By Your Name)</td>\n",
       "      <td>Lil Nas X</td>\n",
       "      <td>1</td>\n",
       "      <td>2020</td>\n",
       "      <td>9</td>\n",
       "      <td>18</td>\n",
       "      <td>1735441776</td>\n",
       "      <td>275</td>\n",
       "      <td>19</td>\n",
       "      <td>738</td>\n",
       "      <td>...</td>\n",
       "      <td>62nd Annual GRAMMY Awards  (2019)</td>\n",
       "      <td>2020-05-19T05:10:28-07:00</td>\n",
       "      <td>2020-05-19T05:10:28-07:00</td>\n",
       "      <td>Best Rap/Sung Performance</td>\n",
       "      <td>Panini</td>\n",
       "      <td>None</td>\n",
       "      <td>https://www.grammy.com/sites/com/files/styles/...</td>\n",
       "      <td>1</td>\n",
       "      <td>['country rap', 'lgbtq+ hip hop', 'pop rap', '...</td>\n",
       "      <td>89</td>\n",
       "    </tr>\n",
       "    <tr>\n",
       "      <th>Lil Nas X</th>\n",
       "      <td>THATS WHAT I WANT</td>\n",
       "      <td>Lil Nas X</td>\n",
       "      <td>1</td>\n",
       "      <td>2021</td>\n",
       "      <td>9</td>\n",
       "      <td>17</td>\n",
       "      <td>920797189</td>\n",
       "      <td>173</td>\n",
       "      <td>7</td>\n",
       "      <td>298</td>\n",
       "      <td>...</td>\n",
       "      <td>62nd Annual GRAMMY Awards  (2019)</td>\n",
       "      <td>2020-05-19T05:10:28-07:00</td>\n",
       "      <td>2020-05-19T05:10:28-07:00</td>\n",
       "      <td>Album Of The Year</td>\n",
       "      <td>7</td>\n",
       "      <td>Joe Grasso, engineer/mixer; Montero Lamar Hill...</td>\n",
       "      <td>https://www.grammy.com/sites/com/files/styles/...</td>\n",
       "      <td>1</td>\n",
       "      <td>['country rap', 'lgbtq+ hip hop', 'pop rap', '...</td>\n",
       "      <td>89</td>\n",
       "    </tr>\n",
       "    <tr>\n",
       "      <th>...</th>\n",
       "      <td>...</td>\n",
       "      <td>...</td>\n",
       "      <td>...</td>\n",
       "      <td>...</td>\n",
       "      <td>...</td>\n",
       "      <td>...</td>\n",
       "      <td>...</td>\n",
       "      <td>...</td>\n",
       "      <td>...</td>\n",
       "      <td>...</td>\n",
       "      <td>...</td>\n",
       "      <td>...</td>\n",
       "      <td>...</td>\n",
       "      <td>...</td>\n",
       "      <td>...</td>\n",
       "      <td>...</td>\n",
       "      <td>...</td>\n",
       "      <td>...</td>\n",
       "      <td>...</td>\n",
       "      <td>...</td>\n",
       "      <td>...</td>\n",
       "    </tr>\n",
       "    <tr>\n",
       "      <th>Drake</th>\n",
       "      <td>Massive</td>\n",
       "      <td>Drake</td>\n",
       "      <td>1</td>\n",
       "      <td>2022</td>\n",
       "      <td>6</td>\n",
       "      <td>17</td>\n",
       "      <td>195628667</td>\n",
       "      <td>66</td>\n",
       "      <td>89</td>\n",
       "      <td>61</td>\n",
       "      <td>...</td>\n",
       "      <td>55th Annual GRAMMY Awards  (2012)</td>\n",
       "      <td>2017-11-28T00:03:45-08:00</td>\n",
       "      <td>2019-09-10T01:06:11-07:00</td>\n",
       "      <td>Best Rap Album</td>\n",
       "      <td>Take Care</td>\n",
       "      <td>Noah \"40\" Shebib, producer; Noel \"Gadget\" Camp...</td>\n",
       "      <td>https://www.grammy.com/sites/com/files/styles/...</td>\n",
       "      <td>1</td>\n",
       "      <td>[]</td>\n",
       "      <td>2</td>\n",
       "    </tr>\n",
       "    <tr>\n",
       "      <th>Drake</th>\n",
       "      <td>Sticky</td>\n",
       "      <td>Drake</td>\n",
       "      <td>1</td>\n",
       "      <td>2022</td>\n",
       "      <td>6</td>\n",
       "      <td>17</td>\n",
       "      <td>191448892</td>\n",
       "      <td>38</td>\n",
       "      <td>105</td>\n",
       "      <td>25</td>\n",
       "      <td>...</td>\n",
       "      <td>59th Annual GRAMMY Awards  (2016)</td>\n",
       "      <td>2017-11-28T00:03:45-08:00</td>\n",
       "      <td>2019-09-10T01:06:11-07:00</td>\n",
       "      <td>Best Rap/Sung Performance</td>\n",
       "      <td>Hotline Bling</td>\n",
       "      <td>None</td>\n",
       "      <td>https://www.grammy.com/sites/com/files/styles/...</td>\n",
       "      <td>1</td>\n",
       "      <td>[]</td>\n",
       "      <td>2</td>\n",
       "    </tr>\n",
       "    <tr>\n",
       "      <th>Drake</th>\n",
       "      <td>Sticky</td>\n",
       "      <td>Drake</td>\n",
       "      <td>1</td>\n",
       "      <td>2022</td>\n",
       "      <td>6</td>\n",
       "      <td>17</td>\n",
       "      <td>191448892</td>\n",
       "      <td>38</td>\n",
       "      <td>105</td>\n",
       "      <td>25</td>\n",
       "      <td>...</td>\n",
       "      <td>55th Annual GRAMMY Awards  (2012)</td>\n",
       "      <td>2017-11-28T00:03:45-08:00</td>\n",
       "      <td>2019-09-10T01:06:11-07:00</td>\n",
       "      <td>Best Rap Album</td>\n",
       "      <td>Take Care</td>\n",
       "      <td>Noah \"40\" Shebib, producer; Noel \"Gadget\" Camp...</td>\n",
       "      <td>https://www.grammy.com/sites/com/files/styles/...</td>\n",
       "      <td>1</td>\n",
       "      <td>[]</td>\n",
       "      <td>2</td>\n",
       "    </tr>\n",
       "    <tr>\n",
       "      <th>Drake</th>\n",
       "      <td>BackOutsideBoyz</td>\n",
       "      <td>Drake</td>\n",
       "      <td>1</td>\n",
       "      <td>2022</td>\n",
       "      <td>11</td>\n",
       "      <td>4</td>\n",
       "      <td>93367537</td>\n",
       "      <td>8</td>\n",
       "      <td>5</td>\n",
       "      <td>2</td>\n",
       "      <td>...</td>\n",
       "      <td>59th Annual GRAMMY Awards  (2016)</td>\n",
       "      <td>2017-11-28T00:03:45-08:00</td>\n",
       "      <td>2019-09-10T01:06:11-07:00</td>\n",
       "      <td>Best Rap/Sung Performance</td>\n",
       "      <td>Hotline Bling</td>\n",
       "      <td>None</td>\n",
       "      <td>https://www.grammy.com/sites/com/files/styles/...</td>\n",
       "      <td>1</td>\n",
       "      <td>[]</td>\n",
       "      <td>2</td>\n",
       "    </tr>\n",
       "    <tr>\n",
       "      <th>Drake</th>\n",
       "      <td>BackOutsideBoyz</td>\n",
       "      <td>Drake</td>\n",
       "      <td>1</td>\n",
       "      <td>2022</td>\n",
       "      <td>11</td>\n",
       "      <td>4</td>\n",
       "      <td>93367537</td>\n",
       "      <td>8</td>\n",
       "      <td>5</td>\n",
       "      <td>2</td>\n",
       "      <td>...</td>\n",
       "      <td>55th Annual GRAMMY Awards  (2012)</td>\n",
       "      <td>2017-11-28T00:03:45-08:00</td>\n",
       "      <td>2019-09-10T01:06:11-07:00</td>\n",
       "      <td>Best Rap Album</td>\n",
       "      <td>Take Care</td>\n",
       "      <td>Noah \"40\" Shebib, producer; Noel \"Gadget\" Camp...</td>\n",
       "      <td>https://www.grammy.com/sites/com/files/styles/...</td>\n",
       "      <td>1</td>\n",
       "      <td>[]</td>\n",
       "      <td>2</td>\n",
       "    </tr>\n",
       "  </tbody>\n",
       "</table>\n",
       "<p>793 rows × 33 columns</p>\n",
       "</div>"
      ],
      "text/plain": [
       "                                               track_name artist(s)_name  \\\n",
       "artist                                                                     \n",
       "Lil Nas X  STAR WALKIN' (League of Legends Worlds Anthem)      Lil Nas X   \n",
       "Lil Nas X  STAR WALKIN' (League of Legends Worlds Anthem)      Lil Nas X   \n",
       "Lil Nas X                  MONTERO (Call Me By Your Name)      Lil Nas X   \n",
       "Lil Nas X                  MONTERO (Call Me By Your Name)      Lil Nas X   \n",
       "Lil Nas X                               THATS WHAT I WANT      Lil Nas X   \n",
       "...                                                   ...            ...   \n",
       "Drake                                             Massive          Drake   \n",
       "Drake                                              Sticky          Drake   \n",
       "Drake                                              Sticky          Drake   \n",
       "Drake                                     BackOutsideBoyz          Drake   \n",
       "Drake                                     BackOutsideBoyz          Drake   \n",
       "\n",
       "           artist_count  released_year  released_month  released_day  \\\n",
       "artist                                                                 \n",
       "Lil Nas X             1           2022               9            22   \n",
       "Lil Nas X             1           2022               9            22   \n",
       "Lil Nas X             1           2020               9            18   \n",
       "Lil Nas X             1           2020               9            18   \n",
       "Lil Nas X             1           2021               9            17   \n",
       "...                 ...            ...             ...           ...   \n",
       "Drake                 1           2022               6            17   \n",
       "Drake                 1           2022               6            17   \n",
       "Drake                 1           2022               6            17   \n",
       "Drake                 1           2022              11             4   \n",
       "Drake                 1           2022              11             4   \n",
       "\n",
       "              streams  in_apple_playlists  in_apple_charts  \\\n",
       "artist                                                       \n",
       "Lil Nas X   332506354                 113               17   \n",
       "Lil Nas X   332506354                 113               17   \n",
       "Lil Nas X  1735441776                 275               19   \n",
       "Lil Nas X  1735441776                 275               19   \n",
       "Lil Nas X   920797189                 173                7   \n",
       "...               ...                 ...              ...   \n",
       "Drake       195628667                  66               89   \n",
       "Drake       191448892                  38              105   \n",
       "Drake       191448892                  38              105   \n",
       "Drake        93367537                   8                5   \n",
       "Drake        93367537                   8                5   \n",
       "\n",
       "          in_deezer_playlists  ...                              title  \\\n",
       "artist                         ...                                      \n",
       "Lil Nas X                 208  ...  62nd Annual GRAMMY Awards  (2019)   \n",
       "Lil Nas X                 208  ...  62nd Annual GRAMMY Awards  (2019)   \n",
       "Lil Nas X                 738  ...  62nd Annual GRAMMY Awards  (2019)   \n",
       "Lil Nas X                 738  ...  62nd Annual GRAMMY Awards  (2019)   \n",
       "Lil Nas X                 298  ...  62nd Annual GRAMMY Awards  (2019)   \n",
       "...                       ...  ...                                ...   \n",
       "Drake                      61  ...  55th Annual GRAMMY Awards  (2012)   \n",
       "Drake                      25  ...  59th Annual GRAMMY Awards  (2016)   \n",
       "Drake                      25  ...  55th Annual GRAMMY Awards  (2012)   \n",
       "Drake                       2  ...  59th Annual GRAMMY Awards  (2016)   \n",
       "Drake                       2  ...  55th Annual GRAMMY Awards  (2012)   \n",
       "\n",
       "                        published_at                 updated_at  \\\n",
       "artist                                                            \n",
       "Lil Nas X  2020-05-19T05:10:28-07:00  2020-05-19T05:10:28-07:00   \n",
       "Lil Nas X  2020-05-19T05:10:28-07:00  2020-05-19T05:10:28-07:00   \n",
       "Lil Nas X  2020-05-19T05:10:28-07:00  2020-05-19T05:10:28-07:00   \n",
       "Lil Nas X  2020-05-19T05:10:28-07:00  2020-05-19T05:10:28-07:00   \n",
       "Lil Nas X  2020-05-19T05:10:28-07:00  2020-05-19T05:10:28-07:00   \n",
       "...                              ...                        ...   \n",
       "Drake      2017-11-28T00:03:45-08:00  2019-09-10T01:06:11-07:00   \n",
       "Drake      2017-11-28T00:03:45-08:00  2019-09-10T01:06:11-07:00   \n",
       "Drake      2017-11-28T00:03:45-08:00  2019-09-10T01:06:11-07:00   \n",
       "Drake      2017-11-28T00:03:45-08:00  2019-09-10T01:06:11-07:00   \n",
       "Drake      2017-11-28T00:03:45-08:00  2019-09-10T01:06:11-07:00   \n",
       "\n",
       "                            category        nominee  \\\n",
       "artist                                                \n",
       "Lil Nas X          Album Of The Year              7   \n",
       "Lil Nas X  Best Rap/Sung Performance         Panini   \n",
       "Lil Nas X          Album Of The Year              7   \n",
       "Lil Nas X  Best Rap/Sung Performance         Panini   \n",
       "Lil Nas X          Album Of The Year              7   \n",
       "...                              ...            ...   \n",
       "Drake                 Best Rap Album      Take Care   \n",
       "Drake      Best Rap/Sung Performance  Hotline Bling   \n",
       "Drake                 Best Rap Album      Take Care   \n",
       "Drake      Best Rap/Sung Performance  Hotline Bling   \n",
       "Drake                 Best Rap Album      Take Care   \n",
       "\n",
       "                                                     workers  \\\n",
       "artist                                                         \n",
       "Lil Nas X  Joe Grasso, engineer/mixer; Montero Lamar Hill...   \n",
       "Lil Nas X                                               None   \n",
       "Lil Nas X  Joe Grasso, engineer/mixer; Montero Lamar Hill...   \n",
       "Lil Nas X                                               None   \n",
       "Lil Nas X  Joe Grasso, engineer/mixer; Montero Lamar Hill...   \n",
       "...                                                      ...   \n",
       "Drake      Noah \"40\" Shebib, producer; Noel \"Gadget\" Camp...   \n",
       "Drake                                                   None   \n",
       "Drake      Noah \"40\" Shebib, producer; Noel \"Gadget\" Camp...   \n",
       "Drake                                                   None   \n",
       "Drake      Noah \"40\" Shebib, producer; Noel \"Gadget\" Camp...   \n",
       "\n",
       "                                                         img  winner  \\\n",
       "artist                                                                 \n",
       "Lil Nas X  https://www.grammy.com/sites/com/files/styles/...       1   \n",
       "Lil Nas X  https://www.grammy.com/sites/com/files/styles/...       1   \n",
       "Lil Nas X  https://www.grammy.com/sites/com/files/styles/...       1   \n",
       "Lil Nas X  https://www.grammy.com/sites/com/files/styles/...       1   \n",
       "Lil Nas X  https://www.grammy.com/sites/com/files/styles/...       1   \n",
       "...                                                      ...     ...   \n",
       "Drake      https://www.grammy.com/sites/com/files/styles/...       1   \n",
       "Drake      https://www.grammy.com/sites/com/files/styles/...       1   \n",
       "Drake      https://www.grammy.com/sites/com/files/styles/...       1   \n",
       "Drake      https://www.grammy.com/sites/com/files/styles/...       1   \n",
       "Drake      https://www.grammy.com/sites/com/files/styles/...       1   \n",
       "\n",
       "                                                      genres  popularity  \n",
       "artist                                                                    \n",
       "Lil Nas X  ['country rap', 'lgbtq+ hip hop', 'pop rap', '...          89  \n",
       "Lil Nas X  ['country rap', 'lgbtq+ hip hop', 'pop rap', '...          89  \n",
       "Lil Nas X  ['country rap', 'lgbtq+ hip hop', 'pop rap', '...          89  \n",
       "Lil Nas X  ['country rap', 'lgbtq+ hip hop', 'pop rap', '...          89  \n",
       "Lil Nas X  ['country rap', 'lgbtq+ hip hop', 'pop rap', '...          89  \n",
       "...                                                      ...         ...  \n",
       "Drake                                                     []           2  \n",
       "Drake                                                     []           2  \n",
       "Drake                                                     []           2  \n",
       "Drake                                                     []           2  \n",
       "Drake                                                     []           2  \n",
       "\n",
       "[793 rows x 33 columns]"
      ]
     },
     "execution_count": 20,
     "metadata": {},
     "output_type": "execute_result"
    }
   ],
   "source": [
    "# Reset index to artist column\n",
    "spotify_DF.set_index(\"artist\")"
   ]
  },
  {
   "cell_type": "code",
   "execution_count": 7,
   "metadata": {},
   "outputs": [
    {
     "data": {
      "text/plain": [
       "artist(s)_name\n",
       "Taylor Swift          272\n",
       "Kendrick Lamar         72\n",
       "The Weeknd             66\n",
       "Adele                  44\n",
       "Eminem                 44\n",
       "Ed Sheeran             36\n",
       "Drake                  24\n",
       "Bruno Mars             24\n",
       "Billie Eilish          20\n",
       "Bad Bunny              19\n",
       "Coldplay               18\n",
       "Kanye West             18\n",
       "Lizzo                  15\n",
       "Lady Gaga              12\n",
       "Ariana Grande          10\n",
       "Frank Sinatra           8\n",
       "Metallica               7\n",
       "Lil Nas X               6\n",
       "Steve Lacy              6\n",
       "Ghost                   6\n",
       "The Police              5\n",
       "Nirvana                 4\n",
       "Paul McCartney          4\n",
       "Childish Gambino        4\n",
       "John Legend             4\n",
       "Aerosmith               4\n",
       "Mariah Carey            3\n",
       "Lana Del Rey            3\n",
       "Kelly Clarkson          3\n",
       "Radiohead               3\n",
       "Imagine Dragons         3\n",
       "Tyler, The Creator      3\n",
       "Shakira                 3\n",
       "Maroon 5                2\n",
       "Frank Ocean             2\n",
       "Sam Smith               2\n",
       "Burna Boy               2\n",
       "Linkin Park             2\n",
       "Chris Brown             2\n",
       "Rihanna                 2\n",
       "Sebastian Yatra         2\n",
       "Maluma                  1\n",
       "J. Cole                 1\n",
       "Burl Ives               1\n",
       "Britney Spears          1\n",
       "Name: count, dtype: int64"
      ]
     },
     "execution_count": 7,
     "metadata": {},
     "output_type": "execute_result"
    }
   ],
   "source": [
    "# Count up artists and how many song entries\n",
    "artist_counts = spotify_DF['artist(s)_name'].value_counts()\n",
    "artist_counts"
   ]
  },
  {
   "cell_type": "code",
   "execution_count": 8,
   "metadata": {},
   "outputs": [
    {
     "data": {
      "application/vnd.plotly.v1+json": {
       "config": {
        "linkText": "Export to plot.ly",
        "plotlyServerURL": "https://plot.ly",
        "showLink": false
       },
       "data": [
        {
         "alignmentgroup": "True",
         "hovertemplate": "color=Taylor Swift<br>artist(s)_name=%{x}<br>Count=%{y}<extra></extra>",
         "legendgroup": "Taylor Swift",
         "marker": {
          "color": "#8c0404",
          "pattern": {
           "shape": ""
          }
         },
         "name": "Taylor Swift",
         "offsetgroup": "Taylor Swift",
         "orientation": "v",
         "showlegend": true,
         "textposition": "auto",
         "texttemplate": "%{y}",
         "type": "bar",
         "x": [
          "Taylor Swift"
         ],
         "xaxis": "x",
         "y": [
          272
         ],
         "yaxis": "y"
        },
        {
         "alignmentgroup": "True",
         "hovertemplate": "color=Kendrick Lamar<br>artist(s)_name=%{x}<br>Count=%{y}<extra></extra>",
         "legendgroup": "Kendrick Lamar",
         "marker": {
          "color": "#f25ed0",
          "pattern": {
           "shape": ""
          }
         },
         "name": "Kendrick Lamar",
         "offsetgroup": "Kendrick Lamar",
         "orientation": "v",
         "showlegend": true,
         "textposition": "auto",
         "texttemplate": "%{y}",
         "type": "bar",
         "x": [
          "Kendrick Lamar"
         ],
         "xaxis": "x",
         "y": [
          72
         ],
         "yaxis": "y"
        },
        {
         "alignmentgroup": "True",
         "hovertemplate": "color=The Weeknd<br>artist(s)_name=%{x}<br>Count=%{y}<extra></extra>",
         "legendgroup": "The Weeknd",
         "marker": {
          "color": "#000000",
          "pattern": {
           "shape": ""
          }
         },
         "name": "The Weeknd",
         "offsetgroup": "The Weeknd",
         "orientation": "v",
         "showlegend": true,
         "textposition": "auto",
         "texttemplate": "%{y}",
         "type": "bar",
         "x": [
          "The Weeknd"
         ],
         "xaxis": "x",
         "y": [
          66
         ],
         "yaxis": "y"
        },
        {
         "alignmentgroup": "True",
         "hovertemplate": "color=Adele<br>artist(s)_name=%{x}<br>Count=%{y}<extra></extra>",
         "legendgroup": "Adele",
         "marker": {
          "color": "#16A085",
          "pattern": {
           "shape": ""
          }
         },
         "name": "Adele",
         "offsetgroup": "Adele",
         "orientation": "v",
         "showlegend": true,
         "textposition": "auto",
         "texttemplate": "%{y}",
         "type": "bar",
         "x": [
          "Adele"
         ],
         "xaxis": "x",
         "y": [
          44
         ],
         "yaxis": "y"
        },
        {
         "alignmentgroup": "True",
         "hovertemplate": "color=Eminem<br>artist(s)_name=%{x}<br>Count=%{y}<extra></extra>",
         "legendgroup": "Eminem",
         "marker": {
          "color": "#34495E",
          "pattern": {
           "shape": ""
          }
         },
         "name": "Eminem",
         "offsetgroup": "Eminem",
         "orientation": "v",
         "showlegend": true,
         "textposition": "auto",
         "texttemplate": "%{y}",
         "type": "bar",
         "x": [
          "Eminem"
         ],
         "xaxis": "x",
         "y": [
          44
         ],
         "yaxis": "y"
        },
        {
         "alignmentgroup": "True",
         "hovertemplate": "color=Ed Sheeran<br>artist(s)_name=%{x}<br>Count=%{y}<extra></extra>",
         "legendgroup": "Ed Sheeran",
         "marker": {
          "color": "#21618C ",
          "pattern": {
           "shape": ""
          }
         },
         "name": "Ed Sheeran",
         "offsetgroup": "Ed Sheeran",
         "orientation": "v",
         "showlegend": true,
         "textposition": "auto",
         "texttemplate": "%{y}",
         "type": "bar",
         "x": [
          "Ed Sheeran"
         ],
         "xaxis": "x",
         "y": [
          36
         ],
         "yaxis": "y"
        },
        {
         "alignmentgroup": "True",
         "hovertemplate": "color=Drake<br>artist(s)_name=%{x}<br>Count=%{y}<extra></extra>",
         "legendgroup": "Drake",
         "marker": {
          "color": "#512E5F",
          "pattern": {
           "shape": ""
          }
         },
         "name": "Drake",
         "offsetgroup": "Drake",
         "orientation": "v",
         "showlegend": true,
         "textposition": "auto",
         "texttemplate": "%{y}",
         "type": "bar",
         "x": [
          "Drake"
         ],
         "xaxis": "x",
         "y": [
          24
         ],
         "yaxis": "y"
        },
        {
         "alignmentgroup": "True",
         "hovertemplate": "color=Bruno Mars<br>artist(s)_name=%{x}<br>Count=%{y}<extra></extra>",
         "legendgroup": "Bruno Mars",
         "marker": {
          "color": "#45B39D",
          "pattern": {
           "shape": ""
          }
         },
         "name": "Bruno Mars",
         "offsetgroup": "Bruno Mars",
         "orientation": "v",
         "showlegend": true,
         "textposition": "auto",
         "texttemplate": "%{y}",
         "type": "bar",
         "x": [
          "Bruno Mars"
         ],
         "xaxis": "x",
         "y": [
          24
         ],
         "yaxis": "y"
        },
        {
         "alignmentgroup": "True",
         "hovertemplate": "color=Billie Eilish<br>artist(s)_name=%{x}<br>Count=%{y}<extra></extra>",
         "legendgroup": "Billie Eilish",
         "marker": {
          "color": "#AAB7B8 ",
          "pattern": {
           "shape": ""
          }
         },
         "name": "Billie Eilish",
         "offsetgroup": "Billie Eilish",
         "orientation": "v",
         "showlegend": true,
         "textposition": "auto",
         "texttemplate": "%{y}",
         "type": "bar",
         "x": [
          "Billie Eilish"
         ],
         "xaxis": "x",
         "y": [
          20
         ],
         "yaxis": "y"
        },
        {
         "alignmentgroup": "True",
         "hovertemplate": "color=Bad Bunny<br>artist(s)_name=%{x}<br>Count=%{y}<extra></extra>",
         "legendgroup": "Bad Bunny",
         "marker": {
          "color": "#20B2AA",
          "pattern": {
           "shape": ""
          }
         },
         "name": "Bad Bunny",
         "offsetgroup": "Bad Bunny",
         "orientation": "v",
         "showlegend": true,
         "textposition": "auto",
         "texttemplate": "%{y}",
         "type": "bar",
         "x": [
          "Bad Bunny"
         ],
         "xaxis": "x",
         "y": [
          19
         ],
         "yaxis": "y"
        },
        {
         "alignmentgroup": "True",
         "hovertemplate": "color=Coldplay<br>artist(s)_name=%{x}<br>Count=%{y}<extra></extra>",
         "legendgroup": "Coldplay",
         "marker": {
          "color": "#FF69B4",
          "pattern": {
           "shape": ""
          }
         },
         "name": "Coldplay",
         "offsetgroup": "Coldplay",
         "orientation": "v",
         "showlegend": true,
         "textposition": "auto",
         "texttemplate": "%{y}",
         "type": "bar",
         "x": [
          "Coldplay"
         ],
         "xaxis": "x",
         "y": [
          18
         ],
         "yaxis": "y"
        },
        {
         "alignmentgroup": "True",
         "hovertemplate": "color=Kanye West<br>artist(s)_name=%{x}<br>Count=%{y}<extra></extra>",
         "legendgroup": "Kanye West",
         "marker": {
          "color": "#00CED1",
          "pattern": {
           "shape": ""
          }
         },
         "name": "Kanye West",
         "offsetgroup": "Kanye West",
         "orientation": "v",
         "showlegend": true,
         "textposition": "auto",
         "texttemplate": "%{y}",
         "type": "bar",
         "x": [
          "Kanye West"
         ],
         "xaxis": "x",
         "y": [
          18
         ],
         "yaxis": "y"
        },
        {
         "alignmentgroup": "True",
         "hovertemplate": "color=Lizzo<br>artist(s)_name=%{x}<br>Count=%{y}<extra></extra>",
         "legendgroup": "Lizzo",
         "marker": {
          "color": "#FF7F50",
          "pattern": {
           "shape": ""
          }
         },
         "name": "Lizzo",
         "offsetgroup": "Lizzo",
         "orientation": "v",
         "showlegend": true,
         "textposition": "auto",
         "texttemplate": "%{y}",
         "type": "bar",
         "x": [
          "Lizzo"
         ],
         "xaxis": "x",
         "y": [
          15
         ],
         "yaxis": "y"
        },
        {
         "alignmentgroup": "True",
         "hovertemplate": "color=Lady Gaga<br>artist(s)_name=%{x}<br>Count=%{y}<extra></extra>",
         "legendgroup": "Lady Gaga",
         "marker": {
          "color": "#7FFF00",
          "pattern": {
           "shape": ""
          }
         },
         "name": "Lady Gaga",
         "offsetgroup": "Lady Gaga",
         "orientation": "v",
         "showlegend": true,
         "textposition": "auto",
         "texttemplate": "%{y}",
         "type": "bar",
         "x": [
          "Lady Gaga"
         ],
         "xaxis": "x",
         "y": [
          12
         ],
         "yaxis": "y"
        },
        {
         "alignmentgroup": "True",
         "hovertemplate": "color=Ariana Grande<br>artist(s)_name=%{x}<br>Count=%{y}<extra></extra>",
         "legendgroup": "Ariana Grande",
         "marker": {
          "color": "#DA70D6",
          "pattern": {
           "shape": ""
          }
         },
         "name": "Ariana Grande",
         "offsetgroup": "Ariana Grande",
         "orientation": "v",
         "showlegend": true,
         "textposition": "auto",
         "texttemplate": "%{y}",
         "type": "bar",
         "x": [
          "Ariana Grande"
         ],
         "xaxis": "x",
         "y": [
          10
         ],
         "yaxis": "y"
        }
       ],
       "layout": {
        "barmode": "relative",
        "legend": {
         "title": {
          "text": "color"
         },
         "tracegroupgap": 0
        },
        "template": {
         "data": {
          "bar": [
           {
            "error_x": {
             "color": "#2a3f5f"
            },
            "error_y": {
             "color": "#2a3f5f"
            },
            "marker": {
             "line": {
              "color": "#E5ECF6",
              "width": 0.5
             },
             "pattern": {
              "fillmode": "overlay",
              "size": 10,
              "solidity": 0.2
             }
            },
            "type": "bar"
           }
          ],
          "barpolar": [
           {
            "marker": {
             "line": {
              "color": "#E5ECF6",
              "width": 0.5
             },
             "pattern": {
              "fillmode": "overlay",
              "size": 10,
              "solidity": 0.2
             }
            },
            "type": "barpolar"
           }
          ],
          "carpet": [
           {
            "aaxis": {
             "endlinecolor": "#2a3f5f",
             "gridcolor": "white",
             "linecolor": "white",
             "minorgridcolor": "white",
             "startlinecolor": "#2a3f5f"
            },
            "baxis": {
             "endlinecolor": "#2a3f5f",
             "gridcolor": "white",
             "linecolor": "white",
             "minorgridcolor": "white",
             "startlinecolor": "#2a3f5f"
            },
            "type": "carpet"
           }
          ],
          "choropleth": [
           {
            "colorbar": {
             "outlinewidth": 0,
             "ticks": ""
            },
            "type": "choropleth"
           }
          ],
          "contour": [
           {
            "colorbar": {
             "outlinewidth": 0,
             "ticks": ""
            },
            "colorscale": [
             [
              0,
              "#0d0887"
             ],
             [
              0.1111111111111111,
              "#46039f"
             ],
             [
              0.2222222222222222,
              "#7201a8"
             ],
             [
              0.3333333333333333,
              "#9c179e"
             ],
             [
              0.4444444444444444,
              "#bd3786"
             ],
             [
              0.5555555555555556,
              "#d8576b"
             ],
             [
              0.6666666666666666,
              "#ed7953"
             ],
             [
              0.7777777777777778,
              "#fb9f3a"
             ],
             [
              0.8888888888888888,
              "#fdca26"
             ],
             [
              1,
              "#f0f921"
             ]
            ],
            "type": "contour"
           }
          ],
          "contourcarpet": [
           {
            "colorbar": {
             "outlinewidth": 0,
             "ticks": ""
            },
            "type": "contourcarpet"
           }
          ],
          "heatmap": [
           {
            "colorbar": {
             "outlinewidth": 0,
             "ticks": ""
            },
            "colorscale": [
             [
              0,
              "#0d0887"
             ],
             [
              0.1111111111111111,
              "#46039f"
             ],
             [
              0.2222222222222222,
              "#7201a8"
             ],
             [
              0.3333333333333333,
              "#9c179e"
             ],
             [
              0.4444444444444444,
              "#bd3786"
             ],
             [
              0.5555555555555556,
              "#d8576b"
             ],
             [
              0.6666666666666666,
              "#ed7953"
             ],
             [
              0.7777777777777778,
              "#fb9f3a"
             ],
             [
              0.8888888888888888,
              "#fdca26"
             ],
             [
              1,
              "#f0f921"
             ]
            ],
            "type": "heatmap"
           }
          ],
          "heatmapgl": [
           {
            "colorbar": {
             "outlinewidth": 0,
             "ticks": ""
            },
            "colorscale": [
             [
              0,
              "#0d0887"
             ],
             [
              0.1111111111111111,
              "#46039f"
             ],
             [
              0.2222222222222222,
              "#7201a8"
             ],
             [
              0.3333333333333333,
              "#9c179e"
             ],
             [
              0.4444444444444444,
              "#bd3786"
             ],
             [
              0.5555555555555556,
              "#d8576b"
             ],
             [
              0.6666666666666666,
              "#ed7953"
             ],
             [
              0.7777777777777778,
              "#fb9f3a"
             ],
             [
              0.8888888888888888,
              "#fdca26"
             ],
             [
              1,
              "#f0f921"
             ]
            ],
            "type": "heatmapgl"
           }
          ],
          "histogram": [
           {
            "marker": {
             "pattern": {
              "fillmode": "overlay",
              "size": 10,
              "solidity": 0.2
             }
            },
            "type": "histogram"
           }
          ],
          "histogram2d": [
           {
            "colorbar": {
             "outlinewidth": 0,
             "ticks": ""
            },
            "colorscale": [
             [
              0,
              "#0d0887"
             ],
             [
              0.1111111111111111,
              "#46039f"
             ],
             [
              0.2222222222222222,
              "#7201a8"
             ],
             [
              0.3333333333333333,
              "#9c179e"
             ],
             [
              0.4444444444444444,
              "#bd3786"
             ],
             [
              0.5555555555555556,
              "#d8576b"
             ],
             [
              0.6666666666666666,
              "#ed7953"
             ],
             [
              0.7777777777777778,
              "#fb9f3a"
             ],
             [
              0.8888888888888888,
              "#fdca26"
             ],
             [
              1,
              "#f0f921"
             ]
            ],
            "type": "histogram2d"
           }
          ],
          "histogram2dcontour": [
           {
            "colorbar": {
             "outlinewidth": 0,
             "ticks": ""
            },
            "colorscale": [
             [
              0,
              "#0d0887"
             ],
             [
              0.1111111111111111,
              "#46039f"
             ],
             [
              0.2222222222222222,
              "#7201a8"
             ],
             [
              0.3333333333333333,
              "#9c179e"
             ],
             [
              0.4444444444444444,
              "#bd3786"
             ],
             [
              0.5555555555555556,
              "#d8576b"
             ],
             [
              0.6666666666666666,
              "#ed7953"
             ],
             [
              0.7777777777777778,
              "#fb9f3a"
             ],
             [
              0.8888888888888888,
              "#fdca26"
             ],
             [
              1,
              "#f0f921"
             ]
            ],
            "type": "histogram2dcontour"
           }
          ],
          "mesh3d": [
           {
            "colorbar": {
             "outlinewidth": 0,
             "ticks": ""
            },
            "type": "mesh3d"
           }
          ],
          "parcoords": [
           {
            "line": {
             "colorbar": {
              "outlinewidth": 0,
              "ticks": ""
             }
            },
            "type": "parcoords"
           }
          ],
          "pie": [
           {
            "automargin": true,
            "type": "pie"
           }
          ],
          "scatter": [
           {
            "fillpattern": {
             "fillmode": "overlay",
             "size": 10,
             "solidity": 0.2
            },
            "type": "scatter"
           }
          ],
          "scatter3d": [
           {
            "line": {
             "colorbar": {
              "outlinewidth": 0,
              "ticks": ""
             }
            },
            "marker": {
             "colorbar": {
              "outlinewidth": 0,
              "ticks": ""
             }
            },
            "type": "scatter3d"
           }
          ],
          "scattercarpet": [
           {
            "marker": {
             "colorbar": {
              "outlinewidth": 0,
              "ticks": ""
             }
            },
            "type": "scattercarpet"
           }
          ],
          "scattergeo": [
           {
            "marker": {
             "colorbar": {
              "outlinewidth": 0,
              "ticks": ""
             }
            },
            "type": "scattergeo"
           }
          ],
          "scattergl": [
           {
            "marker": {
             "colorbar": {
              "outlinewidth": 0,
              "ticks": ""
             }
            },
            "type": "scattergl"
           }
          ],
          "scattermapbox": [
           {
            "marker": {
             "colorbar": {
              "outlinewidth": 0,
              "ticks": ""
             }
            },
            "type": "scattermapbox"
           }
          ],
          "scatterpolar": [
           {
            "marker": {
             "colorbar": {
              "outlinewidth": 0,
              "ticks": ""
             }
            },
            "type": "scatterpolar"
           }
          ],
          "scatterpolargl": [
           {
            "marker": {
             "colorbar": {
              "outlinewidth": 0,
              "ticks": ""
             }
            },
            "type": "scatterpolargl"
           }
          ],
          "scatterternary": [
           {
            "marker": {
             "colorbar": {
              "outlinewidth": 0,
              "ticks": ""
             }
            },
            "type": "scatterternary"
           }
          ],
          "surface": [
           {
            "colorbar": {
             "outlinewidth": 0,
             "ticks": ""
            },
            "colorscale": [
             [
              0,
              "#0d0887"
             ],
             [
              0.1111111111111111,
              "#46039f"
             ],
             [
              0.2222222222222222,
              "#7201a8"
             ],
             [
              0.3333333333333333,
              "#9c179e"
             ],
             [
              0.4444444444444444,
              "#bd3786"
             ],
             [
              0.5555555555555556,
              "#d8576b"
             ],
             [
              0.6666666666666666,
              "#ed7953"
             ],
             [
              0.7777777777777778,
              "#fb9f3a"
             ],
             [
              0.8888888888888888,
              "#fdca26"
             ],
             [
              1,
              "#f0f921"
             ]
            ],
            "type": "surface"
           }
          ],
          "table": [
           {
            "cells": {
             "fill": {
              "color": "#EBF0F8"
             },
             "line": {
              "color": "white"
             }
            },
            "header": {
             "fill": {
              "color": "#C8D4E3"
             },
             "line": {
              "color": "white"
             }
            },
            "type": "table"
           }
          ]
         },
         "layout": {
          "annotationdefaults": {
           "arrowcolor": "#2a3f5f",
           "arrowhead": 0,
           "arrowwidth": 1
          },
          "autotypenumbers": "strict",
          "coloraxis": {
           "colorbar": {
            "outlinewidth": 0,
            "ticks": ""
           }
          },
          "colorscale": {
           "diverging": [
            [
             0,
             "#8e0152"
            ],
            [
             0.1,
             "#c51b7d"
            ],
            [
             0.2,
             "#de77ae"
            ],
            [
             0.3,
             "#f1b6da"
            ],
            [
             0.4,
             "#fde0ef"
            ],
            [
             0.5,
             "#f7f7f7"
            ],
            [
             0.6,
             "#e6f5d0"
            ],
            [
             0.7,
             "#b8e186"
            ],
            [
             0.8,
             "#7fbc41"
            ],
            [
             0.9,
             "#4d9221"
            ],
            [
             1,
             "#276419"
            ]
           ],
           "sequential": [
            [
             0,
             "#0d0887"
            ],
            [
             0.1111111111111111,
             "#46039f"
            ],
            [
             0.2222222222222222,
             "#7201a8"
            ],
            [
             0.3333333333333333,
             "#9c179e"
            ],
            [
             0.4444444444444444,
             "#bd3786"
            ],
            [
             0.5555555555555556,
             "#d8576b"
            ],
            [
             0.6666666666666666,
             "#ed7953"
            ],
            [
             0.7777777777777778,
             "#fb9f3a"
            ],
            [
             0.8888888888888888,
             "#fdca26"
            ],
            [
             1,
             "#f0f921"
            ]
           ],
           "sequentialminus": [
            [
             0,
             "#0d0887"
            ],
            [
             0.1111111111111111,
             "#46039f"
            ],
            [
             0.2222222222222222,
             "#7201a8"
            ],
            [
             0.3333333333333333,
             "#9c179e"
            ],
            [
             0.4444444444444444,
             "#bd3786"
            ],
            [
             0.5555555555555556,
             "#d8576b"
            ],
            [
             0.6666666666666666,
             "#ed7953"
            ],
            [
             0.7777777777777778,
             "#fb9f3a"
            ],
            [
             0.8888888888888888,
             "#fdca26"
            ],
            [
             1,
             "#f0f921"
            ]
           ]
          },
          "colorway": [
           "#636efa",
           "#EF553B",
           "#00cc96",
           "#ab63fa",
           "#FFA15A",
           "#19d3f3",
           "#FF6692",
           "#B6E880",
           "#FF97FF",
           "#FECB52"
          ],
          "font": {
           "color": "#2a3f5f"
          },
          "geo": {
           "bgcolor": "white",
           "lakecolor": "white",
           "landcolor": "#E5ECF6",
           "showlakes": true,
           "showland": true,
           "subunitcolor": "white"
          },
          "hoverlabel": {
           "align": "left"
          },
          "hovermode": "closest",
          "mapbox": {
           "style": "light"
          },
          "paper_bgcolor": "white",
          "plot_bgcolor": "#E5ECF6",
          "polar": {
           "angularaxis": {
            "gridcolor": "white",
            "linecolor": "white",
            "ticks": ""
           },
           "bgcolor": "#E5ECF6",
           "radialaxis": {
            "gridcolor": "white",
            "linecolor": "white",
            "ticks": ""
           }
          },
          "scene": {
           "xaxis": {
            "backgroundcolor": "#E5ECF6",
            "gridcolor": "white",
            "gridwidth": 2,
            "linecolor": "white",
            "showbackground": true,
            "ticks": "",
            "zerolinecolor": "white"
           },
           "yaxis": {
            "backgroundcolor": "#E5ECF6",
            "gridcolor": "white",
            "gridwidth": 2,
            "linecolor": "white",
            "showbackground": true,
            "ticks": "",
            "zerolinecolor": "white"
           },
           "zaxis": {
            "backgroundcolor": "#E5ECF6",
            "gridcolor": "white",
            "gridwidth": 2,
            "linecolor": "white",
            "showbackground": true,
            "ticks": "",
            "zerolinecolor": "white"
           }
          },
          "shapedefaults": {
           "line": {
            "color": "#2a3f5f"
           }
          },
          "ternary": {
           "aaxis": {
            "gridcolor": "white",
            "linecolor": "white",
            "ticks": ""
           },
           "baxis": {
            "gridcolor": "white",
            "linecolor": "white",
            "ticks": ""
           },
           "bgcolor": "#E5ECF6",
           "caxis": {
            "gridcolor": "white",
            "linecolor": "white",
            "ticks": ""
           }
          },
          "title": {
           "x": 0.05
          },
          "xaxis": {
           "automargin": true,
           "gridcolor": "white",
           "linecolor": "white",
           "ticks": "",
           "title": {
            "standoff": 15
           },
           "zerolinecolor": "white",
           "zerolinewidth": 2
          },
          "yaxis": {
           "automargin": true,
           "gridcolor": "white",
           "linecolor": "white",
           "ticks": "",
           "title": {
            "standoff": 15
           },
           "zerolinecolor": "white",
           "zerolinewidth": 2
          }
         }
        },
        "title": {
         "text": "Top 15 Artists with Most Songs"
        },
        "xaxis": {
         "anchor": "y",
         "domain": [
          0,
          1
         ],
         "title": {
          "text": "artist(s)_name"
         }
        },
        "yaxis": {
         "anchor": "x",
         "domain": [
          0,
          1
         ],
         "title": {
          "text": "Count"
         }
        }
       }
      }
     },
     "metadata": {},
     "output_type": "display_data"
    }
   ],
   "source": [
    "# Use iplot to visualize top 15 artists with most streams\n",
    "iplot(px.bar(artist_counts[:15],\n",
    "             text_auto = True,\n",
    "             color = artist_counts[:15].index,\n",
    "             color_discrete_sequence = colors, \n",
    "             labels=dict(index=\"Count Names\",value=\"Count\"),\n",
    "             title = 'Top 15 Artists with Most Songs'\n",
    "            ))"
   ]
  },
  {
   "cell_type": "code",
   "execution_count": 9,
   "metadata": {},
   "outputs": [
    {
     "name": "stdout",
     "output_type": "stream",
     "text": [
      "Number of column :20\n",
      "Number of rows :793\n"
     ]
    }
   ],
   "source": [
    "# The makeup of the colummsn and rows of the DF\n",
    "print(f\"Number of column :{spotify_DF.shape[1]}\\nNumber of rows :{spotify_DF.shape[0]}\")"
   ]
  },
  {
   "cell_type": "code",
   "execution_count": 10,
   "metadata": {},
   "outputs": [
    {
     "name": "stdout",
     "output_type": "stream",
     "text": [
      "number of artists '45'\n"
     ]
    }
   ],
   "source": [
    "# Number of Unique artists in the DF\n",
    "print(f\"number of artists '{spotify_DF['artist(s)_name'].nunique()}'\")"
   ]
  },
  {
   "cell_type": "code",
   "execution_count": 12,
   "metadata": {},
   "outputs": [
    {
     "data": {
      "image/png": "[encoded data removed]",
      "text/plain": [
       "<Figure size 1000x800 with 2 Axes>"
      ]
     },
     "metadata": {},
     "output_type": "display_data"
    }
   ],
   "source": [
    "numeric_df = spotify_DF.select_dtypes(include=['float64', 'int64'])\n",
    "\n",
    "# Calculate the correlation matrix\n",
    "correlation_matrix = numeric_df.corr()\n",
    "\n",
    "# Plot the correlation matrix using Seaborn\n",
    "plt.figure(figsize=(10, 8))\n",
    "sns.heatmap(correlation_matrix, annot=True, cmap='coolwarm', fmt=\".2f\")\n",
    "plt.title('Correlation Matrix')\n",
    "plt.show()"
   ]
  },
  {
   "cell_type": "code",
   "execution_count": 13,
   "metadata": {},
   "outputs": [
    {
     "data": {
      "text/plain": [
       "released_year\n",
       "2022    305\n",
       "2023     73\n",
       "2021     69\n",
       "2014     35\n",
       "2020     35\n",
       "2010     31\n",
       "2019     30\n",
       "2017     29\n",
       "2002     28\n",
       "2012     22\n",
       "2011     19\n",
       "2000     19\n",
       "2013     18\n",
       "2008     12\n",
       "2004     11\n",
       "2016     11\n",
       "1957      8\n",
       "1986      7\n",
       "1983      5\n",
       "1979      4\n",
       "1991      4\n",
       "1973      4\n",
       "1992      3\n",
       "2018      3\n",
       "2015      3\n",
       "1994      3\n",
       "1952      1\n",
       "2003      1\n",
       "Name: count, dtype: int64"
      ]
     },
     "execution_count": 13,
     "metadata": {},
     "output_type": "execute_result"
    }
   ],
   "source": [
    "songs_by_year = spotify_DF['released_year'].value_counts()\n",
    "songs_by_year.columns = ['Year', 'count']\n",
    "songs_by_year"
   ]
  },
  {
   "cell_type": "code",
   "execution_count": 14,
   "metadata": {},
   "outputs": [
    {
     "data": {
      "text/plain": [
       "<Axes: >"
      ]
     },
     "execution_count": 14,
     "metadata": {},
     "output_type": "execute_result"
    },
    {
     "data": {
      "image/png": "[encoded data removed]",
      "text/plain": [
       "<Figure size 640x480 with 1 Axes>"
      ]
     },
     "metadata": {},
     "output_type": "display_data"
    }
   ],
   "source": [
    "spotify_DF['artist(s)_name'].sort_values().value_counts().nlargest(10).plot(kind='pie',ylabel = \"\", autopct='%1.1f%%')"
   ]
  }
 ],
 "metadata": {
  "kernelspec": {
   "display_name": "Python 3",
   "language": "python",
   "name": "python3"
  },
  "language_info": {
   "codemirror_mode": {
    "name": "ipython",
    "version": 3
   },
   "file_extension": ".py",
   "mimetype": "text/x-python",
   "name": "python",
   "nbconvert_exporter": "python",
   "pygments_lexer": "ipython3",
   "version": "3.12.0"
  }
 },
 "nbformat": 4,
 "nbformat_minor": 2
}
